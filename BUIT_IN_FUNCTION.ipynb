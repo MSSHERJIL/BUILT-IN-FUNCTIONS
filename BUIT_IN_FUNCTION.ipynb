{
  "nbformat": 4,
  "nbformat_minor": 0,
  "metadata": {
    "colab": {
      "provenance": []
    },
    "kernelspec": {
      "name": "python3",
      "display_name": "Python 3"
    },
    "language_info": {
      "name": "python"
    }
  },
  "cells": [
    {
      "cell_type": "code",
      "execution_count": null,
      "metadata": {
        "colab": {
          "base_uri": "https://localhost:8080/"
        },
        "id": "qTW07CxIleN3",
        "outputId": "31048143-1d65-404e-d716-04bbdb231435"
      },
      "outputs": [
        {
          "output_type": "stream",
          "name": "stdout",
          "text": [
            "BUILT-IN FUNCTIONS\n",
            "1\n"
          ]
        }
      ],
      "source": [
        "\n",
        "#TASK N0 1 (MUHAMMAD SHERJIL)\n",
        "print(\"BUILT-IN FUNCTIONS\")\n",
        "\n",
        "#METHOD:MIN\n",
        "#DESCRIPTION:RETURN THE MININUM VALUE IN THE LIST OF NUMBERS\n",
        "lst = [2,9,10,44,99,1,9]\n",
        "print(min(lst))\n",
        "\n",
        "\n",
        "\n",
        "\n"
      ]
    },
    {
      "cell_type": "code",
      "source": [
        "#METHOD:MAX\n",
        "#DESCRIPTION:RETURN THE Maximum VALUE IN THE LIST OF NUMBERS\n",
        "lst = [2,9,10,44,99,1,9]\n",
        "print(max(lst))"
      ],
      "metadata": {
        "colab": {
          "base_uri": "https://localhost:8080/"
        },
        "id": "z487ant1oOHS",
        "outputId": "6f0c0dbf-6dda-42bf-fbf0-3b684a974243"
      },
      "execution_count": 6,
      "outputs": [
        {
          "output_type": "stream",
          "name": "stdout",
          "text": [
            "99\n"
          ]
        }
      ]
    },
    {
      "cell_type": "code",
      "source": [
        "#METHOD: ROUND\n",
        "#DESCRIPTION: ROUND  THE NUMBER\n",
        "number = 3.9\n",
        "print(round(number))\n",
        "\n"
      ],
      "metadata": {
        "colab": {
          "base_uri": "https://localhost:8080/"
        },
        "id": "LZ5G5Cy7oOKi",
        "outputId": "672d7866-adfa-418c-9197-bba6a9930fdf"
      },
      "execution_count": 1,
      "outputs": [
        {
          "output_type": "stream",
          "name": "stdout",
          "text": [
            "4\n"
          ]
        }
      ]
    },
    {
      "cell_type": "code",
      "source": [
        "#METHOD: ABSOLUTE\n",
        "#DESCRIPTION: RETURN THE ABSOLUTE VALUE OF THE NUMBER\n",
        "number = (-9)\n",
        "print(abs(number))\n",
        "\n"
      ],
      "metadata": {
        "colab": {
          "base_uri": "https://localhost:8080/"
        },
        "id": "mPJuPC-Sy9zQ",
        "outputId": "5ff4b7f2-5de4-4878-aaf1-e81f62f295fd"
      },
      "execution_count": 11,
      "outputs": [
        {
          "output_type": "stream",
          "name": "stdout",
          "text": [
            "9\n"
          ]
        }
      ]
    },
    {
      "cell_type": "code",
      "source": [
        "#METHOD: REVERSE\n",
        "#DESCRIPTION : REVERSE ENTIRE LIST\n",
        "lst = [2,9,10,44,99,1,9]\n",
        "lst.reverse()\n",
        "print(lst)\n"
      ],
      "metadata": {
        "colab": {
          "base_uri": "https://localhost:8080/"
        },
        "id": "W5CIJxLj0QPb",
        "outputId": "6ce67437-04fe-4554-ba32-cffbbb592a49"
      },
      "execution_count": 14,
      "outputs": [
        {
          "output_type": "stream",
          "name": "stdout",
          "text": [
            "[9, 1, 99, 44, 10, 9, 2]\n"
          ]
        }
      ]
    },
    {
      "cell_type": "code",
      "source": [
        "#METHOD: SORT\n",
        "#DESCRIPTION : ARRANGE LIST IN ACENDING ORDER\n",
        "lst = [2,9,10,44,99,1,9]\n",
        "lst.sort()\n",
        "print(lst)\n"
      ],
      "metadata": {
        "colab": {
          "base_uri": "https://localhost:8080/"
        },
        "id": "f0hVet4a1j74",
        "outputId": "1554d09c-4ff4-444a-c969-14c03e7b1faf"
      },
      "execution_count": 15,
      "outputs": [
        {
          "output_type": "stream",
          "name": "stdout",
          "text": [
            "[1, 2, 9, 9, 10, 44, 99]\n"
          ]
        }
      ]
    },
    {
      "cell_type": "code",
      "source": [
        "#METHOD: CLEAR\n",
        "#DESCRIPTION: CLEAR THE LIST\n",
        "lst = [2,9,10,44,99,1,9]\n",
        "lst.clear()\n",
        "print(lst)\n"
      ],
      "metadata": {
        "colab": {
          "base_uri": "https://localhost:8080/"
        },
        "id": "DaSZM9Bo2Djf",
        "outputId": "37f72b1e-4416-4853-b16a-f5eb4ac9f438"
      },
      "execution_count": 16,
      "outputs": [
        {
          "output_type": "stream",
          "name": "stdout",
          "text": [
            "[]\n"
          ]
        }
      ]
    },
    {
      "cell_type": "code",
      "source": [
        "#METHOD: POP\n",
        "#DESCRIPTION: REMOVE THE LAST VARIABLE\n",
        "lst = [2,9,10,44,99,1,9]\n",
        "lst.pop()\n",
        "print(lst)\n",
        "\n"
      ],
      "metadata": {
        "colab": {
          "base_uri": "https://localhost:8080/"
        },
        "id": "gYgGPQCS290Z",
        "outputId": "bfb5adeb-b5f2-4fed-9877-6323d253d071"
      },
      "execution_count": 17,
      "outputs": [
        {
          "output_type": "stream",
          "name": "stdout",
          "text": [
            "[2, 9, 10, 44, 99, 1]\n"
          ]
        }
      ]
    },
    {
      "cell_type": "code",
      "source": [
        "#METHOD: COUNT\n",
        "#DESCRIPTION: COUNT THE PARTICULAR VARIABLE\n",
        "lst = [2,9,10,44,99,1,9,5,7,33,99]\n",
        "print(lst.count(99))\n"
      ],
      "metadata": {
        "colab": {
          "base_uri": "https://localhost:8080/"
        },
        "id": "1si0M_fB3n3s",
        "outputId": "eccf2bba-209a-4567-a0f1-8d7d926e16c8"
      },
      "execution_count": 18,
      "outputs": [
        {
          "output_type": "stream",
          "name": "stdout",
          "text": [
            "2\n"
          ]
        }
      ]
    },
    {
      "cell_type": "code",
      "source": [
        "#METHOD: EXTEND\n",
        "#DESCRIPTION:COMBINE TWO LIST\n",
        "lst1 = [2,9,10,44,99,1,9,5,7,33,99]\n",
        "lst2 = [111,222,333,4444,555]\n",
        "lst1.extend(lst2)\n",
        "lst1"
      ],
      "metadata": {
        "colab": {
          "base_uri": "https://localhost:8080/"
        },
        "id": "7AWK8RK34QOp",
        "outputId": "1c35ae33-fb33-48df-83ea-255126a96dcf"
      },
      "execution_count": 20,
      "outputs": [
        {
          "output_type": "execute_result",
          "data": {
            "text/plain": [
              "[2, 9, 10, 44, 99, 1, 9, 5, 7, 33, 99, 111, 222, 333, 4444, 555]"
            ]
          },
          "metadata": {},
          "execution_count": 20
        }
      ]
    }
  ]
}